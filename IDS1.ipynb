{
  "nbformat": 4,
  "nbformat_minor": 0,
  "metadata": {
    "colab": {
      "provenance": [],
      "gpuType": "V28",
      "authorship_tag": "ABX9TyN8Tw3WBuwNpdnY+RQc1mS8",
      "include_colab_link": true
    },
    "kernelspec": {
      "name": "python3",
      "display_name": "Python 3"
    },
    "language_info": {
      "name": "python"
    },
    "accelerator": "TPU"
  },
  "cells": [
    {
      "cell_type": "markdown",
      "metadata": {
        "id": "view-in-github",
        "colab_type": "text"
      },
      "source": [
        "<a href=\"https://colab.research.google.com/github/sriyadd/International-Debt-Analysis-World-Bank/blob/main/IDS1.ipynb\" target=\"_parent\"><img src=\"https://colab.research.google.com/assets/colab-badge.svg\" alt=\"Open In Colab\"/></a>"
      ]
    },
    {
      "cell_type": "code",
      "source": [
        "\n",
        "!pip install chardet\n"
      ],
      "metadata": {
        "colab": {
          "base_uri": "https://localhost:8080/"
        },
        "id": "mSYLocjINu6v",
        "outputId": "579d0c77-85ea-4b61-dbbc-07c602d5d777"
      },
      "execution_count": null,
      "outputs": [
        {
          "output_type": "stream",
          "name": "stdout",
          "text": [
            "Collecting chardet\n",
            "  Downloading chardet-5.2.0-py3-none-any.whl.metadata (3.4 kB)\n",
            "Downloading chardet-5.2.0-py3-none-any.whl (199 kB)\n",
            "\u001b[2K   \u001b[90m━━━━━━━━━━━━━━━━━━━━━━━━━━━━━━━━━━━━━━━━\u001b[0m \u001b[32m199.4/199.4 kB\u001b[0m \u001b[31m3.3 MB/s\u001b[0m eta \u001b[36m0:00:00\u001b[0m\n",
            "\u001b[?25hInstalling collected packages: chardet\n",
            "Successfully installed chardet-5.2.0\n"
          ]
        }
      ]
    },
    {
      "cell_type": "code",
      "source": [
        "import pandas as pd\n",
        "# Attempt to read the CSV with different encodings, starting with common ones like ISO-8859-1 and then try utf-16\n",
        "try:\n",
        "    df_orig = pd.read_csv('/content/IDS_ALLCountries_Data.csv', encoding='ISO-8859-1')\n",
        "    print(\"Successfully read with ISO-8859-1 encoding\")\n",
        "except UnicodeDecodeError:\n",
        "    try:\n",
        "        df_orig = pd.read_csv('/content/IDS_ALLCountries_Data.csv', encoding='latin1')\n",
        "        print(\"Successfully read with latin1 encoding\")\n",
        "    except UnicodeDecodeError:\n",
        "       try:\n",
        "            df_orig = pd.read_csv('/content/IDS_ALLCountries_Data.csv', encoding='utf-16')\n",
        "            print(\"Successfully read with utf-16 encoding\")\n",
        "       except UnicodeDecodeError:\n",
        "            # If none of the above encodings work, try auto-detect using chardet\n",
        "            import chardet\n",
        "            with open('/content/IDS_ALLCountries_Data.csv', 'rb') as f:\n",
        "                result = chardet.detect(f.read())  # Detect encoding of the file\n",
        "            encoding = result['encoding']\n",
        "            print(f\"Detected encoding: {encoding}\")\n",
        "            df_orig = pd.read_csv('/content/IDS_ALLCountries_Data.csv', encoding=encoding)\n",
        "            print(\"Successfully read with auto-detected encoding\")\n",
        "\n",
        "# Display the first few rows of the dataframe\n",
        "print(df_orig.head(30))"
      ],
      "metadata": {
        "colab": {
          "base_uri": "https://localhost:8080/"
        },
        "id": "bkxqoAbTOYX6",
        "outputId": "ff5aacc4-4a09-4414-dcef-c5ce4cee36d0"
      },
      "execution_count": null,
      "outputs": [
        {
          "output_type": "stream",
          "name": "stdout",
          "text": [
            "Successfully read with ISO-8859-1 encoding\n",
            "   Country Name Country Code Counterpart-Area Name Counterpart-Area Code  \\\n",
            "0   Afghanistan          AFG                 World                   WLD   \n",
            "1   Afghanistan          AFG                 World                   WLD   \n",
            "2   Afghanistan          AFG                 World                   WLD   \n",
            "3   Afghanistan          AFG                 World                   WLD   \n",
            "4   Afghanistan          AFG                 World                   WLD   \n",
            "5   Afghanistan          AFG                 World                   WLD   \n",
            "6   Afghanistan          AFG                 World                   WLD   \n",
            "7   Afghanistan          AFG                 World                   WLD   \n",
            "8   Afghanistan          AFG                 World                   WLD   \n",
            "9   Afghanistan          AFG                 World                   WLD   \n",
            "10  Afghanistan          AFG                 World                   WLD   \n",
            "11  Afghanistan          AFG                 World                   WLD   \n",
            "12  Afghanistan          AFG                 World                   WLD   \n",
            "13  Afghanistan          AFG                 World                   WLD   \n",
            "14  Afghanistan          AFG                 World                   WLD   \n",
            "15  Afghanistan          AFG                 World                   WLD   \n",
            "16  Afghanistan          AFG                 World                   WLD   \n",
            "17  Afghanistan          AFG                 World                   WLD   \n",
            "18  Afghanistan          AFG                 World                   WLD   \n",
            "19  Afghanistan          AFG                 World                   WLD   \n",
            "20  Afghanistan          AFG                 World                   WLD   \n",
            "21  Afghanistan          AFG                 World                   WLD   \n",
            "22  Afghanistan          AFG                 World                   WLD   \n",
            "23  Afghanistan          AFG                 World                   WLD   \n",
            "24  Afghanistan          AFG                 World                   WLD   \n",
            "25  Afghanistan          AFG                 World                   WLD   \n",
            "26  Afghanistan          AFG                 World                   WLD   \n",
            "27  Afghanistan          AFG                 World                   WLD   \n",
            "28  Afghanistan          AFG                 World                   WLD   \n",
            "29  Afghanistan          AFG                 World                   WLD   \n",
            "\n",
            "                                          Series Name        Series Code  \\\n",
            "0   Average grace period on new external debt comm...        DT.GPA.DPPG   \n",
            "1   Average grace period on new external debt comm...        DT.GPA.OFFT   \n",
            "2   Average grace period on new external debt comm...        DT.GPA.PRVT   \n",
            "3   Average grant element on new external debt com...        DT.GRE.DPPG   \n",
            "4   Average grant element on new external debt com...        DT.GRE.OFFT   \n",
            "5   Average grant element on new external debt com...        DT.GRE.PRVT   \n",
            "6   Average interest on new external debt commitme...        DT.INR.DPPG   \n",
            "7   Average interest on new external debt commitme...        DT.INR.OFFT   \n",
            "8   Average interest on new external debt commitme...        DT.INR.PRVT   \n",
            "9   Average maturity on new external debt commitme...        DT.MAT.DPPG   \n",
            "10  Average maturity on new external debt commitme...        DT.MAT.OFFT   \n",
            "11  Average maturity on new external debt commitme...        DT.MAT.PRVT   \n",
            "12                   CB, bilateral (AMT, current US$)  DT.AMT.BLAT.CB.CD   \n",
            "13                   CB, bilateral (DIS, current US$)  DT.DIS.BLAT.CB.CD   \n",
            "14                   CB, bilateral (DOD, current US$)  DT.DOD.BLAT.CB.CD   \n",
            "15                   CB, bilateral (INT, current US$)  DT.INT.BLAT.CB.CD   \n",
            "16                   CB, bilateral (NFL, current US$)  DT.NFL.BLAT.CB.CD   \n",
            "17                   CB, bilateral (NTR, current US$)  DT.NTR.BLAT.CB.CD   \n",
            "18                   CB, bilateral (TDS, current US$)  DT.TDS.BLAT.CB.CD   \n",
            "19      CB, bilateral concessional (AMT, current US$)  DT.AMT.BLTC.CB.CD   \n",
            "20      CB, bilateral concessional (DIS, current US$)  DT.DIS.BLTC.CB.CD   \n",
            "21      CB, bilateral concessional (DOD, current US$)  DT.DOD.BLTC.CB.CD   \n",
            "22      CB, bilateral concessional (INT, current US$)  DT.INT.BLTC.CB.CD   \n",
            "23      CB, bilateral concessional (NFL, current US$)  DT.NFL.BLTC.CB.CD   \n",
            "24      CB, bilateral concessional (NTR, current US$)  DT.NTR.BLTC.CB.CD   \n",
            "25      CB, bilateral concessional (TDS, current US$)  DT.TDS.BLTC.CB.CD   \n",
            "26                       CB, bonds (AMT, current US$)  DT.AMT.PBND.CB.CD   \n",
            "27                       CB, bonds (DIS, current US$)  DT.DIS.PBND.CB.CD   \n",
            "28                       CB, bonds (DOD, current US$)  DT.DOD.PBND.CB.CD   \n",
            "29                       CB, bonds (INT, current US$)  DT.INT.PBND.CB.CD   \n",
            "\n",
            "    1970  1971  1972  1973  ...  2022  2023  2024  2025  2026  2027  2028  \\\n",
            "0    NaN   NaN   NaN   NaN  ...   0.0   0.0   NaN   NaN   NaN   NaN   NaN   \n",
            "1    NaN   NaN   NaN   NaN  ...   0.0   0.0   NaN   NaN   NaN   NaN   NaN   \n",
            "2    NaN   NaN   NaN   NaN  ...   0.0   0.0   NaN   NaN   NaN   NaN   NaN   \n",
            "3    NaN   NaN   NaN   NaN  ...   0.0   0.0   NaN   NaN   NaN   NaN   NaN   \n",
            "4    NaN   NaN   NaN   NaN  ...   0.0   0.0   NaN   NaN   NaN   NaN   NaN   \n",
            "5    NaN   NaN   NaN   NaN  ...   0.0   0.0   NaN   NaN   NaN   NaN   NaN   \n",
            "6    NaN   NaN   NaN   NaN  ...   0.0   0.0   NaN   NaN   NaN   NaN   NaN   \n",
            "7    NaN   NaN   NaN   NaN  ...   0.0   0.0   NaN   NaN   NaN   NaN   NaN   \n",
            "8    NaN   NaN   NaN   NaN  ...   0.0   0.0   NaN   NaN   NaN   NaN   NaN   \n",
            "9    NaN   NaN   NaN   NaN  ...   0.0   0.0   NaN   NaN   NaN   NaN   NaN   \n",
            "10   NaN   NaN   NaN   NaN  ...   0.0   0.0   NaN   NaN   NaN   NaN   NaN   \n",
            "11   NaN   NaN   NaN   NaN  ...   0.0   0.0   NaN   NaN   NaN   NaN   NaN   \n",
            "12   NaN   NaN   NaN   NaN  ...   NaN   NaN   NaN   NaN   NaN   NaN   NaN   \n",
            "13   NaN   NaN   NaN   NaN  ...   NaN   NaN   NaN   NaN   NaN   NaN   NaN   \n",
            "14   NaN   NaN   NaN   NaN  ...   NaN   NaN   NaN   NaN   NaN   NaN   NaN   \n",
            "15   NaN   NaN   NaN   NaN  ...   NaN   NaN   NaN   NaN   NaN   NaN   NaN   \n",
            "16   NaN   NaN   NaN   NaN  ...   NaN   NaN   NaN   NaN   NaN   NaN   NaN   \n",
            "17   NaN   NaN   NaN   NaN  ...   NaN   NaN   NaN   NaN   NaN   NaN   NaN   \n",
            "18   NaN   NaN   NaN   NaN  ...   NaN   NaN   NaN   NaN   NaN   NaN   NaN   \n",
            "19   NaN   NaN   NaN   NaN  ...   NaN   NaN   NaN   NaN   NaN   NaN   NaN   \n",
            "20   NaN   NaN   NaN   NaN  ...   NaN   NaN   NaN   NaN   NaN   NaN   NaN   \n",
            "21   NaN   NaN   NaN   NaN  ...   NaN   NaN   NaN   NaN   NaN   NaN   NaN   \n",
            "22   NaN   NaN   NaN   NaN  ...   NaN   NaN   NaN   NaN   NaN   NaN   NaN   \n",
            "23   NaN   NaN   NaN   NaN  ...   NaN   NaN   NaN   NaN   NaN   NaN   NaN   \n",
            "24   NaN   NaN   NaN   NaN  ...   NaN   NaN   NaN   NaN   NaN   NaN   NaN   \n",
            "25   NaN   NaN   NaN   NaN  ...   NaN   NaN   NaN   NaN   NaN   NaN   NaN   \n",
            "26   NaN   NaN   NaN   NaN  ...   NaN   NaN   NaN   NaN   NaN   NaN   NaN   \n",
            "27   NaN   NaN   NaN   NaN  ...   NaN   NaN   NaN   NaN   NaN   NaN   NaN   \n",
            "28   NaN   NaN   NaN   NaN  ...   NaN   NaN   NaN   NaN   NaN   NaN   NaN   \n",
            "29   NaN   NaN   NaN   NaN  ...   NaN   NaN   NaN   NaN   NaN   NaN   NaN   \n",
            "\n",
            "    2029  2030  2031  \n",
            "0    NaN   NaN   NaN  \n",
            "1    NaN   NaN   NaN  \n",
            "2    NaN   NaN   NaN  \n",
            "3    NaN   NaN   NaN  \n",
            "4    NaN   NaN   NaN  \n",
            "5    NaN   NaN   NaN  \n",
            "6    NaN   NaN   NaN  \n",
            "7    NaN   NaN   NaN  \n",
            "8    NaN   NaN   NaN  \n",
            "9    NaN   NaN   NaN  \n",
            "10   NaN   NaN   NaN  \n",
            "11   NaN   NaN   NaN  \n",
            "12   NaN   NaN   NaN  \n",
            "13   NaN   NaN   NaN  \n",
            "14   NaN   NaN   NaN  \n",
            "15   NaN   NaN   NaN  \n",
            "16   NaN   NaN   NaN  \n",
            "17   NaN   NaN   NaN  \n",
            "18   NaN   NaN   NaN  \n",
            "19   NaN   NaN   NaN  \n",
            "20   NaN   NaN   NaN  \n",
            "21   NaN   NaN   NaN  \n",
            "22   NaN   NaN   NaN  \n",
            "23   NaN   NaN   NaN  \n",
            "24   NaN   NaN   NaN  \n",
            "25   NaN   NaN   NaN  \n",
            "26   NaN   NaN   NaN  \n",
            "27   NaN   NaN   NaN  \n",
            "28   NaN   NaN   NaN  \n",
            "29   NaN   NaN   NaN  \n",
            "\n",
            "[30 rows x 68 columns]\n"
          ]
        }
      ]
    },
    {
      "cell_type": "code",
      "source": [
        "# Create a copy of the DataFrame\n",
        "df = df_orig.copy()\n",
        "\n",
        "print(df.head())\n"
      ],
      "metadata": {
        "colab": {
          "base_uri": "https://localhost:8080/"
        },
        "id": "ufuT3F0qRGcM",
        "outputId": "263d1fd4-6199-452b-d77e-8c3199a97a44"
      },
      "execution_count": null,
      "outputs": [
        {
          "output_type": "stream",
          "name": "stdout",
          "text": [
            "  Country Name Country Code Counterpart-Area Name Counterpart-Area Code  \\\n",
            "0  Afghanistan          AFG                 World                   WLD   \n",
            "1  Afghanistan          AFG                 World                   WLD   \n",
            "2  Afghanistan          AFG                 World                   WLD   \n",
            "3  Afghanistan          AFG                 World                   WLD   \n",
            "4  Afghanistan          AFG                 World                   WLD   \n",
            "\n",
            "                                         Series Name  Series Code  1970  1971  \\\n",
            "0  Average grace period on new external debt comm...  DT.GPA.DPPG   NaN   NaN   \n",
            "1  Average grace period on new external debt comm...  DT.GPA.OFFT   NaN   NaN   \n",
            "2  Average grace period on new external debt comm...  DT.GPA.PRVT   NaN   NaN   \n",
            "3  Average grant element on new external debt com...  DT.GRE.DPPG   NaN   NaN   \n",
            "4  Average grant element on new external debt com...  DT.GRE.OFFT   NaN   NaN   \n",
            "\n",
            "   1972  1973  ...  2022  2023  2024  2025  2026  2027  2028  2029  2030  2031  \n",
            "0   NaN   NaN  ...   0.0   0.0   NaN   NaN   NaN   NaN   NaN   NaN   NaN   NaN  \n",
            "1   NaN   NaN  ...   0.0   0.0   NaN   NaN   NaN   NaN   NaN   NaN   NaN   NaN  \n",
            "2   NaN   NaN  ...   0.0   0.0   NaN   NaN   NaN   NaN   NaN   NaN   NaN   NaN  \n",
            "3   NaN   NaN  ...   0.0   0.0   NaN   NaN   NaN   NaN   NaN   NaN   NaN   NaN  \n",
            "4   NaN   NaN  ...   0.0   0.0   NaN   NaN   NaN   NaN   NaN   NaN   NaN   NaN  \n",
            "\n",
            "[5 rows x 68 columns]\n"
          ]
        }
      ]
    },
    {
      "cell_type": "markdown",
      "source": [
        "# Exploring and Cleaning Data\n"
      ],
      "metadata": {
        "id": "HjAeOVB3PjcK"
      }
    },
    {
      "cell_type": "code",
      "source": [
        "#display data info\n",
        "df.info()"
      ],
      "metadata": {
        "colab": {
          "base_uri": "https://localhost:8080/"
        },
        "id": "9RLFhrnoPixM",
        "outputId": "915d595b-cbfa-48c2-c5c9-45366a59b63c"
      },
      "execution_count": null,
      "outputs": [
        {
          "output_type": "stream",
          "name": "stdout",
          "text": [
            "<class 'pandas.core.frame.DataFrame'>\n",
            "Index: 76918 entries, 0 to 76920\n",
            "Data columns (total 12 columns):\n",
            " #   Column                 Non-Null Count  Dtype  \n",
            "---  ------                 --------------  -----  \n",
            " 0   Country Name           76918 non-null  object \n",
            " 1   Country Code           76916 non-null  object \n",
            " 2   Counterpart-Area Name  76916 non-null  object \n",
            " 3   Counterpart-Area Code  76916 non-null  object \n",
            " 4   Series Name            76916 non-null  object \n",
            " 5   Series Code            76916 non-null  object \n",
            " 6   2019                   50280 non-null  float64\n",
            " 7   2020                   50684 non-null  float64\n",
            " 8   2021                   50503 non-null  float64\n",
            " 9   2022                   50412 non-null  float64\n",
            " 10  2023                   50389 non-null  float64\n",
            " 11  2024                   12967 non-null  float64\n",
            "dtypes: float64(6), object(6)\n",
            "memory usage: 7.6+ MB\n"
          ]
        }
      ]
    },
    {
      "cell_type": "code",
      "source": [
        "# Print all the columns in the data\n",
        "print(df.columns)"
      ],
      "metadata": {
        "colab": {
          "base_uri": "https://localhost:8080/"
        },
        "id": "h7IuJxfBQSqV",
        "outputId": "716be1b3-3b66-402f-beaf-2b9e4d3d9817"
      },
      "execution_count": null,
      "outputs": [
        {
          "output_type": "stream",
          "name": "stdout",
          "text": [
            "Index(['Country Name', 'Country Code', 'Counterpart-Area Name',\n",
            "       'Counterpart-Area Code', 'Series Name', 'Series Code', '2019', '2020',\n",
            "       '2021', '2022', '2023', '2024'],\n",
            "      dtype='object')\n"
          ]
        }
      ]
    },
    {
      "cell_type": "code",
      "source": [
        "# Dropping unneccesary columns\n",
        "columns_to_drop = ['1970','1971','1972', '1973', '1974', '1975', '1976', '1977', '1978', '1979', '1980',\n",
        "       '1981', '1982', '1983', '1984', '1985', '1986', '1987', '1988', '1989',\n",
        "       '1990', '1991', '1992', '1993', '1994', '1995', '1996', '1997', '1998',\n",
        "       '1999', '2000', '2001', '2002', '2003', '2004', '2005', '2006', '2007',\n",
        "       '2008', '2009', '2010', '2011', '2012', '2013', '2014', '2015', '2016',\n",
        "       '2017', '2018','2025','2026', '2027', '2028', '2029', '2030', '2031']\n",
        "df = df.drop(columns=columns_to_drop)"
      ],
      "metadata": {
        "id": "uyTlesPbQY1q"
      },
      "execution_count": null,
      "outputs": []
    },
    {
      "cell_type": "code",
      "source": [
        "# Print all the columns in the data\n",
        "print(df.columns)\n"
      ],
      "metadata": {
        "colab": {
          "base_uri": "https://localhost:8080/"
        },
        "id": "jtFCZotYPr60",
        "outputId": "db25509b-7a5e-4c71-fd51-6d7bd2119e9e"
      },
      "execution_count": null,
      "outputs": [
        {
          "output_type": "stream",
          "name": "stdout",
          "text": [
            "Index(['Country Name', 'Country Code', 'Counterpart-Area Name',\n",
            "       'Counterpart-Area Code', 'Series Name', 'Series Code', '2019', '2020',\n",
            "       '2021', '2022', '2023', '2024'],\n",
            "      dtype='object')\n"
          ]
        }
      ]
    },
    {
      "cell_type": "code",
      "source": [
        "# Check for missing values\n",
        "print(df.isnull().sum())"
      ],
      "metadata": {
        "colab": {
          "base_uri": "https://localhost:8080/"
        },
        "id": "Ipw3ff2vSSqZ",
        "outputId": "4a6ed2d6-2072-4ab9-e3ba-94f453787c72"
      },
      "execution_count": null,
      "outputs": [
        {
          "output_type": "stream",
          "name": "stdout",
          "text": [
            "Country Name                 0\n",
            "Country Code                 2\n",
            "Counterpart-Area Name        2\n",
            "Counterpart-Area Code        2\n",
            "Series Name                  2\n",
            "Series Code                  2\n",
            "2019                     26638\n",
            "2020                     26234\n",
            "2021                     26415\n",
            "2022                     26506\n",
            "2023                     26529\n",
            "2024                     63951\n",
            "dtype: int64\n"
          ]
        }
      ]
    },
    {
      "cell_type": "code",
      "source": [
        "# Print missing values for Country Name\n",
        "print(df[df['Country Name'].isnull()])"
      ],
      "metadata": {
        "colab": {
          "base_uri": "https://localhost:8080/"
        },
        "id": "D6VltKlyS6WO",
        "outputId": "91040020-3447-44db-8b16-311a928055b8"
      },
      "execution_count": null,
      "outputs": [
        {
          "output_type": "stream",
          "name": "stdout",
          "text": [
            "Empty DataFrame\n",
            "Columns: [Country Name, Country Code, Counterpart-Area Name, Counterpart-Area Code, Series Name, Series Code, 2019, 2020, 2021, 2022, 2023, 2024]\n",
            "Index: []\n"
          ]
        }
      ]
    },
    {
      "cell_type": "code",
      "source": [
        "# Identify empty rows\n",
        "empty_rows = df[df.isnull().all(axis=1)]\n",
        "print(empty_rows)"
      ],
      "metadata": {
        "colab": {
          "base_uri": "https://localhost:8080/"
        },
        "id": "DV5opzovS__-",
        "outputId": "8c90d3e4-8894-498b-de9b-b463b83101a6"
      },
      "execution_count": null,
      "outputs": [
        {
          "output_type": "stream",
          "name": "stdout",
          "text": [
            "Empty DataFrame\n",
            "Columns: [Country Name, Country Code, Counterpart-Area Name, Counterpart-Area Code, Series Name, Series Code, 2019, 2020, 2021, 2022, 2023, 2024]\n",
            "Index: []\n"
          ]
        }
      ]
    },
    {
      "cell_type": "code",
      "source": [
        "# Remove empty rows\n",
        "df = df.dropna(how='all')"
      ],
      "metadata": {
        "id": "ugPNl9E_Xq2Y"
      },
      "execution_count": null,
      "outputs": []
    },
    {
      "cell_type": "code",
      "source": [
        "# Check for missing values\n",
        "print(df.isnull().sum())"
      ],
      "metadata": {
        "colab": {
          "base_uri": "https://localhost:8080/"
        },
        "id": "E4e6bwATTmcD",
        "outputId": "7504af13-5fda-4e32-f11b-637077593fdf"
      },
      "execution_count": null,
      "outputs": [
        {
          "output_type": "stream",
          "name": "stdout",
          "text": [
            "Country Name                 0\n",
            "Country Code                 2\n",
            "Counterpart-Area Name        2\n",
            "Counterpart-Area Code        2\n",
            "Series Name                  2\n",
            "Series Code                  2\n",
            "2019                     26638\n",
            "2020                     26234\n",
            "2021                     26415\n",
            "2022                     26506\n",
            "2023                     26529\n",
            "2024                     63951\n",
            "dtype: int64\n"
          ]
        }
      ]
    },
    {
      "cell_type": "code",
      "source": [],
      "metadata": {
        "id": "lHBKoFFoTpZ9"
      },
      "execution_count": null,
      "outputs": []
    }
  ]
}